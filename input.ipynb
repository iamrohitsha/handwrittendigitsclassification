{
 "cells": [
  {
   "cell_type": "markdown",
   "id": "24f6bb1a",
   "metadata": {},
   "source": [
    "**All the trained model**"
   ]
  },
  {
   "cell_type": "code",
   "execution_count": 163,
   "id": "40968d74",
   "metadata": {},
   "outputs": [],
   "source": [
    "trained_model = [\"knn_digit_recognizer.pkl\",\"decision_digit_recognizer.pkl\",\"svm_classifier_recognizer.pkl\"]"
   ]
  },
  {
   "cell_type": "markdown",
   "id": "e2f75d79",
   "metadata": {},
   "source": [
    "Prediction using all the trained models"
   ]
  },
  {
   "cell_type": "code",
   "execution_count": 164,
   "id": "ad4268bf",
   "metadata": {},
   "outputs": [
    {
     "name": "stdout",
     "output_type": "stream",
     "text": [
      "The digit predicted by knn_digit_recognizer.pkl is 9\n",
      "The digit predicted by decision_digit_recognizer.pkl is 7\n",
      "The digit predicted by svm_classifier_recognizer.pkl is 9\n",
      "The digit predicted by KNN_pca_recognizer.pkl is 7\n",
      "The digit predicted by decision_digit_pca_recognizer.pkl is 9\n"
     ]
    }
   ],
   "source": [
    "import joblib\n",
    "import cv2\n",
    "from PIL import ImageGrab\n",
    "img = ImageGrab.grab(bbox=(100, 320, 400, 600))\n",
    "img.save(\"image.png\")\n",
    "image_path = \"image.png\"\n",
    "img = cv2.imread(image_path, cv2.IMREAD_GRAYSCALE)  # Read in grayscale\n",
    "img = cv2.resize(img, (28, 28), interpolation=cv2.INTER_AREA)  # Resize to 28x28\n",
    "\n",
    "img = img.reshape(1,784)\n",
    "img = 255-img\n",
    "\n",
    "for i in range(len(trained_model)):\n",
    "    model = joblib.load(trained_model[i])\n",
    "    prediction = model.predict(img)\n",
    "    print(f\"The digit predicted by {trained_model[i]} is {prediction[0]}\")\n",
    "pca = joblib.load(\"pca_model.pkl\")\n",
    "img_pca = pca.transform(img)\n",
    "trained_model = [\"KNN_pca_recognizer.pkl\",\"decision_digit_pca_recognizer.pkl\"]\n",
    "for j in range(len(trained_model)):\n",
    "    model = joblib.load(trained_model[j])\n",
    "    prediction = model.predict(img_pca)\n",
    "    print(f\"The digit predicted by {trained_model[j]} is {prediction[0]}\")\n"
   ]
  }
 ],
 "metadata": {
  "kernelspec": {
   "display_name": "Python 3 (ipykernel)",
   "language": "python",
   "name": "python3"
  },
  "language_info": {
   "codemirror_mode": {
    "name": "ipython",
    "version": 3
   },
   "file_extension": ".py",
   "mimetype": "text/x-python",
   "name": "python",
   "nbconvert_exporter": "python",
   "pygments_lexer": "ipython3",
   "version": "3.12.2"
  }
 },
 "nbformat": 4,
 "nbformat_minor": 5
}
