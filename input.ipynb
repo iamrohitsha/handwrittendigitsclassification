{
 "cells": [
  {
   "cell_type": "markdown",
   "id": "24f6bb1a",
   "metadata": {},
   "source": [
    "**All the trained model**"
   ]
  },
  {
   "cell_type": "code",
   "execution_count": 74,
   "id": "40968d74",
   "metadata": {},
   "outputs": [],
   "source": [
    "trained_model = [\"knn_digit_recognizer.pkl\",\"decision_digit_recognizer.pkl\",\"svm_classifier_recognizer.pkl\"]"
   ]
  },
  {
   "cell_type": "markdown",
   "id": "e2f75d79",
   "metadata": {},
   "source": [
    "Prediction using all the trained models"
   ]
  },
  {
   "cell_type": "code",
   "execution_count": 75,
   "id": "ad4268bf",
   "metadata": {},
   "outputs": [
    {
     "name": "stdout",
     "output_type": "stream",
     "text": [
      "Predicted digit: 2\n",
      "Predicted digit: 2\n",
      "Predicted digit: 7\n"
     ]
    }
   ],
   "source": [
    "import joblib\n",
    "import cv2\n",
    "from PIL import ImageGrab\n",
    "img = ImageGrab.grab(bbox=(100, 320, 400, 600))\n",
    "img.save(\"image.png\")\n",
    "image_path = \"image.png\"\n",
    "img = cv2.imread(image_path, cv2.IMREAD_GRAYSCALE)  # Read in grayscale\n",
    "img = cv2.resize(img, (28, 28), interpolation=cv2.INTER_AREA)  # Resize to 28x28\n",
    "\n",
    "img = img.reshape(1,784)\n",
    "\n",
    "for i in range(len(trained_model)):\n",
    "    model = joblib.load(trained_model[i])\n",
    "    prediction = model.predict(img)\n",
    "    print(\"Predicted digit:\", prediction[0])"
   ]
  },
  {
   "cell_type": "markdown",
   "id": "e0ae3739",
   "metadata": {},
   "source": [
    "Applying PCA transformation"
   ]
  },
  {
   "cell_type": "code",
   "execution_count": 72,
   "id": "cabb3001",
   "metadata": {},
   "outputs": [],
   "source": [
    "# Load the PCA and KNN models\n",
    "pca = joblib.load(\"pca_model.pkl\")\n",
    "# Apply PCA transformation\n",
    "img_pca = pca.transform(img)"
   ]
  },
  {
   "cell_type": "markdown",
   "id": "5397e227",
   "metadata": {},
   "source": [
    "Prediction using all the trained model "
   ]
  },
  {
   "cell_type": "code",
   "execution_count": 73,
   "id": "8f9d90d6",
   "metadata": {},
   "outputs": [
    {
     "name": "stdout",
     "output_type": "stream",
     "text": [
      "Predicted digit: 1\n",
      "Predicted digit: 2\n"
     ]
    }
   ],
   "source": [
    "trained_model = [\"KNN_pca_recognizer.pkl\",\"decision_digit_pca_recognizer.pkl\"]\n",
    "for i in range(len(trained_model)):\n",
    "    model = joblib.load(trained_model[i])\n",
    "    prediction = model.predict(img_pca)\n",
    "    print(\"Predicted digit:\", prediction[0])"
   ]
  },
  {
   "cell_type": "code",
   "execution_count": null,
   "id": "657a31f2",
   "metadata": {},
   "outputs": [],
   "source": []
  }
 ],
 "metadata": {
  "kernelspec": {
   "display_name": "Python 3 (ipykernel)",
   "language": "python",
   "name": "python3"
  },
  "language_info": {
   "codemirror_mode": {
    "name": "ipython",
    "version": 3
   },
   "file_extension": ".py",
   "mimetype": "text/x-python",
   "name": "python",
   "nbconvert_exporter": "python",
   "pygments_lexer": "ipython3",
   "version": "3.12.2"
  }
 },
 "nbformat": 4,
 "nbformat_minor": 5
}
