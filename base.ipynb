{
 "cells": [
  {
   "cell_type": "markdown",
   "id": "64b5ec5b",
   "metadata": {},
   "source": [
    "**All librabries used**"
   ]
  },
  {
   "cell_type": "code",
   "execution_count": 2,
   "id": "f365e24c-2910-4f44-9288-5014567e3bdf",
   "metadata": {},
   "outputs": [
    {
     "name": "stderr",
     "output_type": "stream",
     "text": [
      "C:\\Users\\hiamr\\AppData\\Local\\Temp\\ipykernel_11112\\321526161.py:1: DeprecationWarning: \n",
      "Pyarrow will become a required dependency of pandas in the next major release of pandas (pandas 3.0),\n",
      "(to allow more performant data types, such as the Arrow string type, and better interoperability with other libraries)\n",
      "but was not found to be installed on your system.\n",
      "If this would cause problems for you,\n",
      "please provide us feedback at https://github.com/pandas-dev/pandas/issues/54466\n",
      "        \n",
      "  import pandas as pd\n"
     ]
    }
   ],
   "source": [
    "import pandas as pd\n",
    "import numpy as np\n",
    "import matplotlib\n",
    "import matplotlib.pyplot as plt\n",
    "from sklearn.neighbors import KNeighborsClassifier\n",
    "from sklearn.metrics import accuracy_score, classification_report\n",
    "from sklearn import tree\n",
    "from sklearn.decomposition import PCA\n"
   ]
  },
  {
   "cell_type": "markdown",
   "id": "cbe95ed1",
   "metadata": {},
   "source": [
    "*Fetching training and testing dataset*"
   ]
  },
  {
   "cell_type": "code",
   "execution_count": 3,
   "id": "7ccd0007-b3cb-471c-be06-60bf82921196",
   "metadata": {},
   "outputs": [],
   "source": [
    "# Training dataset and converting it into DataFrame\n",
    "data_train = pd.read_csv(\"mnist_train.csv\")\n",
    "data_train = pd.DataFrame(data_train)\n",
    "\n",
    "# Testing dataset \n",
    "data_test = pd.read_csv(\"mnist_test.csv\")\n",
    "data_test = pd.DataFrame(data_test)\n"
   ]
  },
  {
   "cell_type": "markdown",
   "id": "60c728ee",
   "metadata": {},
   "source": [
    "Giving columns to training and testing samples"
   ]
  },
  {
   "cell_type": "code",
   "execution_count": 4,
   "id": "e6feba10",
   "metadata": {},
   "outputs": [],
   "source": [
    "# for training samples\n",
    "column_train = data_train.columns\n",
    "data_train.columns =  np.arange(785)\n",
    "# Shift the index\n",
    "data_train.index = data_train.index + 1\n",
    "# Sort the index\n",
    "data_train = data_train.sort_index()\n",
    "# Add the new row at index 0\n",
    "data_train.loc[0] = column_train\n",
    "# resetting the index\n",
    "data_train = data_train.sort_index().reset_index(drop=True)\n",
    "#  For testing samples\n",
    "column_test = data_test.columns\n",
    "data_test.columns =  np.arange(785)\n",
    "data_test.index = data_test.index + 1\n",
    "data_test = data_test.sort_index()\n",
    "data_test.loc[0] = column_test\n",
    "data_test = data_test.sort_index().reset_index(drop=True)"
   ]
  },
  {
   "cell_type": "markdown",
   "id": "a071418f",
   "metadata": {},
   "source": [
    "Divide the sample into features and target"
   ]
  },
  {
   "cell_type": "code",
   "execution_count": 5,
   "id": "538c1f53-c548-4341-be57-da7cb7babfa5",
   "metadata": {},
   "outputs": [],
   "source": [
    "# training target and features\n",
    "data_train_target = data_train[0]\n",
    "data_train_features = data_train.drop(0 , axis = 1)\n",
    "# testing target and features\n",
    "data_test_target = data_test[0]\n",
    "data_test_features = data_test.drop(0 , axis = 1)"
   ]
  },
  {
   "cell_type": "markdown",
   "id": "a562ffe7",
   "metadata": {},
   "source": [
    "Converting the dataset into float array "
   ]
  },
  {
   "cell_type": "code",
   "execution_count": 6,
   "id": "ac683ec5-f475-426a-98ea-d167cf634a1f",
   "metadata": {},
   "outputs": [],
   "source": [
    "data_train_features = np.array(data_train_features)\n",
    "data_train_target = np.array(data_train_target)\n",
    "data_train_features = data_train_features.astype(float)\n",
    "data_train_target = data_train_target.astype(int)\n",
    "\n",
    "data_test_features = np.array(data_test_features)\n",
    "data_test_target = np.array(data_test_target)\n",
    "data_test_features = data_test_features.astype(float)\n",
    "data_test_target = data_test_target.astype(int)\n"
   ]
  },
  {
   "cell_type": "code",
   "execution_count": 7,
   "id": "58659544-ee88-4080-aa69-1adefabdb95a",
   "metadata": {},
   "outputs": [
    {
     "data": {
      "text/plain": [
       "<matplotlib.image.AxesImage at 0x1ba9e690a40>"
      ]
     },
     "execution_count": 7,
     "metadata": {},
     "output_type": "execute_result"
    },
    {
     "data": {
      "image/png": "[encoded data removed]",
      "text/plain": [
       "<Figure size 640x480 with 1 Axes>"
      ]
     },
     "metadata": {},
     "output_type": "display_data"
    }
   ],
   "source": [
    "\n",
    "some_digit = data_train_features[34561]\n",
    "some_digit_image = some_digit.reshape(28,28)\n",
    "\n",
    "\n",
    "# Now you can plot the image\n",
    "plt.imshow(some_digit_image , cmap = matplotlib.cm.binary , interpolation = \"nearest\")"
   ]
  },
  {
   "cell_type": "code",
   "execution_count": 7,
   "id": "1bb27133-9fb5-48a6-a7a0-7febb403c2e6",
   "metadata": {},
   "outputs": [
    {
     "name": "stdout",
     "output_type": "stream",
     "text": [
      "5\n"
     ]
    }
   ],
   "source": [
    "print(data_train_target[34561])"
   ]
  },
  {
   "cell_type": "markdown",
   "id": "b44896c3",
   "metadata": {},
   "source": [
    "Using KNN classifier"
   ]
  },
  {
   "cell_type": "code",
   "execution_count": 9,
   "id": "e2cf60c9-ca0f-470f-93f4-80d72fab0e87",
   "metadata": {},
   "outputs": [
    {
     "name": "stdout",
     "output_type": "stream",
     "text": [
      "The model accuracy when trained by KNN clasifier is 97.05% \n",
      "Knn Classification Report:\n",
      "               precision    recall  f1-score   support\n",
      "\n",
      "           0       0.97      0.99      0.98       980\n",
      "           1       0.96      1.00      0.98      1135\n",
      "           2       0.98      0.97      0.97      1032\n",
      "           3       0.96      0.97      0.96      1010\n",
      "           4       0.98      0.97      0.97       982\n",
      "           5       0.97      0.96      0.96       892\n",
      "           6       0.98      0.99      0.98       958\n",
      "           7       0.96      0.96      0.96      1028\n",
      "           8       0.99      0.94      0.96       974\n",
      "           9       0.96      0.96      0.96      1009\n",
      "\n",
      "    accuracy                           0.97     10000\n",
      "   macro avg       0.97      0.97      0.97     10000\n",
      "weighted avg       0.97      0.97      0.97     10000\n",
      "\n"
     ]
    }
   ],
   "source": [
    "neigh = KNeighborsClassifier(n_neighbors=3)\n",
    "neigh.fit(data_train_features, data_train_target)\n",
    "\n",
    "data_test_predict = neigh.predict(data_test_features)\n",
    "accuracy_knn = accuracy_score(data_test_predict , data_test_target)*100\n",
    "print(f\"The model accuracy when trained by KNN clasifier is {accuracy_knn}% \")\n",
    "\n",
    "print(\"Knn Classification Report:\\n\",classification_report(data_test_target,data_test_predict))"
   ]
  },
  {
   "cell_type": "markdown",
   "id": "ccbd49fa",
   "metadata": {},
   "source": [
    "*Making a Model after training*"
   ]
  },
  {
   "cell_type": "code",
   "execution_count": 10,
   "id": "bf57cf1a",
   "metadata": {},
   "outputs": [
    {
     "data": {
      "text/plain": [
       "['knn_digit_recognizer.pkl']"
      ]
     },
     "execution_count": 10,
     "metadata": {},
     "output_type": "execute_result"
    }
   ],
   "source": [
    "import joblib\n",
    "\n",
    "# After training your KNN model\n",
    "joblib.dump(neigh, 'knn_digit_recognizer.pkl')\n"
   ]
  },
  {
   "cell_type": "markdown",
   "id": "6a139119",
   "metadata": {},
   "source": [
    "Using Decision Tree classifier"
   ]
  },
  {
   "cell_type": "code",
   "execution_count": 11,
   "id": "2c256399-eb3d-401b-b3cc-cb04cfbdf78c",
   "metadata": {},
   "outputs": [
    {
     "name": "stdout",
     "output_type": "stream",
     "text": [
      "The model accuracy when trained by Decision Tree Classifier 87.72999999999999%\n",
      "Decision Tree Classification Report:\n",
      "               precision    recall  f1-score   support\n",
      "\n",
      "           0       0.93      0.93      0.93       980\n",
      "           1       0.95      0.97      0.96      1135\n",
      "           2       0.88      0.86      0.87      1032\n",
      "           3       0.84      0.85      0.85      1010\n",
      "           4       0.88      0.87      0.88       982\n",
      "           5       0.82      0.82      0.82       892\n",
      "           6       0.88      0.89      0.88       958\n",
      "           7       0.91      0.90      0.90      1028\n",
      "           8       0.81      0.81      0.81       974\n",
      "           9       0.85      0.85      0.85      1009\n",
      "\n",
      "    accuracy                           0.88     10000\n",
      "   macro avg       0.88      0.88      0.88     10000\n",
      "weighted avg       0.88      0.88      0.88     10000\n",
      "\n"
     ]
    }
   ],
   "source": [
    "decision_classifier  = tree.DecisionTreeClassifier()\n",
    "decision_classifier.fit(data_train_features,data_train_target)\n",
    "\n",
    "data_test_predict = decision_classifier.predict(data_test_features)\n",
    "accuracy_decision_tree = accuracy_score(data_test_predict , data_test_target)*100\n",
    "print(f\"The model accuracy when trained by Decision Tree Classifier {accuracy_decision_tree}%\")\n",
    "\n",
    "print(\"Decision Tree Classification Report:\\n\",classification_report(data_test_target,data_test_predict))"
   ]
  },
  {
   "cell_type": "markdown",
   "id": "e6b956fa",
   "metadata": {},
   "source": [
    "*Making the model after training*"
   ]
  },
  {
   "cell_type": "code",
   "execution_count": 12,
   "id": "f4d8dce2",
   "metadata": {},
   "outputs": [
    {
     "data": {
      "text/plain": [
       "['decision_digit_recognizer.pkl']"
      ]
     },
     "execution_count": 12,
     "metadata": {},
     "output_type": "execute_result"
    }
   ],
   "source": [
    "import joblib\n",
    "joblib.dump(decision_classifier, 'decision_digit_recognizer.pkl')"
   ]
  },
  {
   "cell_type": "markdown",
   "id": "24ff2687",
   "metadata": {},
   "source": [
    "****Dimensionality reduction using PCA****"
   ]
  },
  {
   "cell_type": "code",
   "execution_count": 13,
   "id": "c9fcb1d8-55ac-43b1-b18a-85a7d611e034",
   "metadata": {},
   "outputs": [
    {
     "data": {
      "image/png": "[encoded data removed]",
      "text/plain": [
       "<Figure size 640x480 with 1 Axes>"
      ]
     },
     "metadata": {},
     "output_type": "display_data"
    }
   ],
   "source": [
    "# Getting the value of n_components\n",
    "n_components = None\n",
    "pca = PCA(n_components=n_components, svd_solver=\"randomized\", whiten=True, random_state=42).fit(data_train_features)\n",
    "variance = pca.explained_variance_ratio_\n",
    "sum = np.cumsum(variance)\n",
    "plt.plot(sum)\n",
    "plt.grid(True , color ='k')\n",
    "plt.show()"
   ]
  },
  {
   "cell_type": "code",
   "execution_count": 26,
   "id": "f40d817e",
   "metadata": {},
   "outputs": [
    {
     "data": {
      "text/plain": [
       "['pca_model.pkl']"
      ]
     },
     "execution_count": 26,
     "metadata": {},
     "output_type": "execute_result"
    }
   ],
   "source": [
    "joblib.dump(pca, \"pca_model.pkl\")"
   ]
  },
  {
   "cell_type": "markdown",
   "id": "7518735a",
   "metadata": {},
   "source": [
    "Again using KNN classfier"
   ]
  },
  {
   "cell_type": "code",
   "execution_count": 15,
   "id": "0d9a34bb-88b9-4b1f-9109-a716419be2fb",
   "metadata": {},
   "outputs": [
    {
     "name": "stdout",
     "output_type": "stream",
     "text": [
      "The accuracy of model which is trained using KNN Classifier after the reduction of dimensions is 94.08%\n"
     ]
    }
   ],
   "source": [
    "# chossing a value of n_components from the above plot\n",
    "n_components = 100\n",
    "pca = PCA(n_components=n_components, svd_solver=\"randomized\", whiten=True, random_state=42).fit(data_train_features)\n",
    "data_train_features_pca = pca.transform(data_train_features)\n",
    "data_test_features_pca = pca.transform(data_test_features)\n",
    "neigh.fit(data_train_features_pca , data_train_target)\n",
    "y_pred = neigh.predict(data_test_features_pca)\n",
    "accuracy_pca_knn = accuracy_score(y_pred ,data_test_target)*100\n",
    "print(f\"The accuracy of model which is trained using KNN Classifier after the reduction of dimensions is {accuracy_pca_knn}%\")"
   ]
  },
  {
   "cell_type": "code",
   "execution_count": 16,
   "id": "1ecf5155",
   "metadata": {},
   "outputs": [
    {
     "data": {
      "text/plain": [
       "['KNN_pca_recognizer.pkl']"
      ]
     },
     "execution_count": 16,
     "metadata": {},
     "output_type": "execute_result"
    }
   ],
   "source": [
    "joblib.dump(neigh, 'KNN_pca_recognizer.pkl')"
   ]
  },
  {
   "cell_type": "markdown",
   "id": "8cf47fb2",
   "metadata": {},
   "source": [
    "Again usnig Decision tree classifier "
   ]
  },
  {
   "cell_type": "code",
   "execution_count": 17,
   "id": "b2b5698f",
   "metadata": {},
   "outputs": [
    {
     "name": "stdout",
     "output_type": "stream",
     "text": [
      "The accuracy of model which is trained using decision tree Classifier after the reduction of dimensions is 83.84%\n"
     ]
    }
   ],
   "source": [
    "decision_classifier.fit(data_train_features_pca , data_train_target)\n",
    "y_pred = decision_classifier.predict(data_test_features_pca)\n",
    "accuracy_pca_decision = accuracy_score(y_pred ,data_test_target)*100\n",
    "print(f\"The accuracy of model which is trained using decision tree Classifier after the reduction of dimensions is {accuracy_pca_decision}%\")"
   ]
  },
  {
   "cell_type": "code",
   "execution_count": 18,
   "id": "8f1ff4e5",
   "metadata": {},
   "outputs": [
    {
     "data": {
      "text/plain": [
       "['decision_digit_pca_recognizer.pkl']"
      ]
     },
     "execution_count": 18,
     "metadata": {},
     "output_type": "execute_result"
    }
   ],
   "source": [
    "joblib.dump(decision_classifier, 'decision_digit_pca_recognizer.pkl')"
   ]
  },
  {
   "cell_type": "markdown",
   "id": "664510f2",
   "metadata": {},
   "source": [
    "**Training the model using SVM**"
   ]
  },
  {
   "cell_type": "code",
   "execution_count": 19,
   "id": "f478eb56",
   "metadata": {},
   "outputs": [
    {
     "data": {
      "text/html": [
       "<style>#sk-container-id-1 {\n",
       "  /* Definition of color scheme common for light and dark mode */\n",
       "  --sklearn-color-text: black;\n",
       "  --sklearn-color-line: gray;\n",
       "  /* Definition of color scheme for unfitted estimators */\n",
       "  --sklearn-color-unfitted-level-0: #fff5e6;\n",
       "  --sklearn-color-unfitted-level-1: #f6e4d2;\n",
       "  --sklearn-color-unfitted-level-2: #ffe0b3;\n",
       "  --sklearn-color-unfitted-level-3: chocolate;\n",
       "  /* Definition of color scheme for fitted estimators */\n",
       "  --sklearn-color-fitted-level-0: #f0f8ff;\n",
       "  --sklearn-color-fitted-level-1: #d4ebff;\n",
       "  --sklearn-color-fitted-level-2: #b3dbfd;\n",
       "  --sklearn-color-fitted-level-3: cornflowerblue;\n",
       "\n",
       "  /* Specific color for light theme */\n",
       "  --sklearn-color-text-on-default-background: var(--sg-text-color, var(--theme-code-foreground, var(--jp-content-font-color1, black)));\n",
       "  --sklearn-color-background: var(--sg-background-color, var(--theme-background, var(--jp-layout-color0, white)));\n",
       "  --sklearn-color-border-box: var(--sg-text-color, var(--theme-code-foreground, var(--jp-content-font-color1, black)));\n",
       "  --sklearn-color-icon: #696969;\n",
       "\n",
       "  @media (prefers-color-scheme: dark) {\n",
       "    /* Redefinition of color scheme for dark theme */\n",
       "    --sklearn-color-text-on-default-background: var(--sg-text-color, var(--theme-code-foreground, var(--jp-content-font-color1, white)));\n",
       "    --sklearn-color-background: var(--sg-background-color, var(--theme-background, var(--jp-layout-color0, #111)));\n",
       "    --sklearn-color-border-box: var(--sg-text-color, var(--theme-code-foreground, var(--jp-content-font-color1, white)));\n",
       "    --sklearn-color-icon: #878787;\n",
       "  }\n",
       "}\n",
       "\n",
       "#sk-container-id-1 {\n",
       "  color: var(--sklearn-color-text);\n",
       "}\n",
       "\n",
       "#sk-container-id-1 pre {\n",
       "  padding: 0;\n",
       "}\n",
       "\n",
       "#sk-container-id-1 input.sk-hidden--visually {\n",
       "  border: 0;\n",
       "  clip: rect(1px 1px 1px 1px);\n",
       "  clip: rect(1px, 1px, 1px, 1px);\n",
       "  height: 1px;\n",
       "  margin: -1px;\n",
       "  overflow: hidden;\n",
       "  padding: 0;\n",
       "  position: absolute;\n",
       "  width: 1px;\n",
       "}\n",
       "\n",
       "#sk-container-id-1 div.sk-dashed-wrapped {\n",
       "  border: 1px dashed var(--sklearn-color-line);\n",
       "  margin: 0 0.4em 0.5em 0.4em;\n",
       "  box-sizing: border-box;\n",
       "  padding-bottom: 0.4em;\n",
       "  background-color: var(--sklearn-color-background);\n",
       "}\n",
       "\n",
       "#sk-container-id-1 div.sk-container {\n",
       "  /* jupyter's `normalize.less` sets `[hidden] { display: none; }`\n",
       "     but bootstrap.min.css set `[hidden] { display: none !important; }`\n",
       "     so we also need the `!important` here to be able to override the\n",
       "     default hidden behavior on the sphinx rendered scikit-learn.org.\n",
       "     See: https://github.com/scikit-learn/scikit-learn/issues/21755 */\n",
       "  display: inline-block !important;\n",
       "  position: relative;\n",
       "}\n",
       "\n",
       "#sk-container-id-1 div.sk-text-repr-fallback {\n",
       "  display: none;\n",
       "}\n",
       "\n",
       "div.sk-parallel-item,\n",
       "div.sk-serial,\n",
       "div.sk-item {\n",
       "  /* draw centered vertical line to link estimators */\n",
       "  background-image: linear-gradient(var(--sklearn-color-text-on-default-background), var(--sklearn-color-text-on-default-background));\n",
       "  background-size: 2px 100%;\n",
       "  background-repeat: no-repeat;\n",
       "  background-position: center center;\n",
       "}\n",
       "\n",
       "/* Parallel-specific style estimator block */\n",
       "\n",
       "#sk-container-id-1 div.sk-parallel-item::after {\n",
       "  content: \"\";\n",
       "  width: 100%;\n",
       "  border-bottom: 2px solid var(--sklearn-color-text-on-default-background);\n",
       "  flex-grow: 1;\n",
       "}\n",
       "\n",
       "#sk-container-id-1 div.sk-parallel {\n",
       "  display: flex;\n",
       "  align-items: stretch;\n",
       "  justify-content: center;\n",
       "  background-color: var(--sklearn-color-background);\n",
       "  position: relative;\n",
       "}\n",
       "\n",
       "#sk-container-id-1 div.sk-parallel-item {\n",
       "  display: flex;\n",
       "  flex-direction: column;\n",
       "}\n",
       "\n",
       "#sk-container-id-1 div.sk-parallel-item:first-child::after {\n",
       "  align-self: flex-end;\n",
       "  width: 50%;\n",
       "}\n",
       "\n",
       "#sk-container-id-1 div.sk-parallel-item:last-child::after {\n",
       "  align-self: flex-start;\n",
       "  width: 50%;\n",
       "}\n",
       "\n",
       "#sk-container-id-1 div.sk-parallel-item:only-child::after {\n",
       "  width: 0;\n",
       "}\n",
       "\n",
       "/* Serial-specific style estimator block */\n",
       "\n",
       "#sk-container-id-1 div.sk-serial {\n",
       "  display: flex;\n",
       "  flex-direction: column;\n",
       "  align-items: center;\n",
       "  background-color: var(--sklearn-color-background);\n",
       "  padding-right: 1em;\n",
       "  padding-left: 1em;\n",
       "}\n",
       "\n",
       "\n",
       "/* Toggleable style: style used for estimator/Pipeline/ColumnTransformer box that is\n",
       "clickable and can be expanded/collapsed.\n",
       "- Pipeline and ColumnTransformer use this feature and define the default style\n",
       "- Estimators will overwrite some part of the style using the `sk-estimator` class\n",
       "*/\n",
       "\n",
       "/* Pipeline and ColumnTransformer style (default) */\n",
       "\n",
       "#sk-container-id-1 div.sk-toggleable {\n",
       "  /* Default theme specific background. It is overwritten whether we have a\n",
       "  specific estimator or a Pipeline/ColumnTransformer */\n",
       "  background-color: var(--sklearn-color-background);\n",
       "}\n",
       "\n",
       "/* Toggleable label */\n",
       "#sk-container-id-1 label.sk-toggleable__label {\n",
       "  cursor: pointer;\n",
       "  display: block;\n",
       "  width: 100%;\n",
       "  margin-bottom: 0;\n",
       "  padding: 0.5em;\n",
       "  box-sizing: border-box;\n",
       "  text-align: center;\n",
       "}\n",
       "\n",
       "#sk-container-id-1 label.sk-toggleable__label-arrow:before {\n",
       "  /* Arrow on the left of the label */\n",
       "  content: \"▸\";\n",
       "  float: left;\n",
       "  margin-right: 0.25em;\n",
       "  color: var(--sklearn-color-icon);\n",
       "}\n",
       "\n",
       "#sk-container-id-1 label.sk-toggleable__label-arrow:hover:before {\n",
       "  color: var(--sklearn-color-text);\n",
       "}\n",
       "\n",
       "/* Toggleable content - dropdown */\n",
       "\n",
       "#sk-container-id-1 div.sk-toggleable__content {\n",
       "  max-height: 0;\n",
       "  max-width: 0;\n",
       "  overflow: hidden;\n",
       "  text-align: left;\n",
       "  /* unfitted */\n",
       "  background-color: var(--sklearn-color-unfitted-level-0);\n",
       "}\n",
       "\n",
       "#sk-container-id-1 div.sk-toggleable__content.fitted {\n",
       "  /* fitted */\n",
       "  background-color: var(--sklearn-color-fitted-level-0);\n",
       "}\n",
       "\n",
       "#sk-container-id-1 div.sk-toggleable__content pre {\n",
       "  margin: 0.2em;\n",
       "  border-radius: 0.25em;\n",
       "  color: var(--sklearn-color-text);\n",
       "  /* unfitted */\n",
       "  background-color: var(--sklearn-color-unfitted-level-0);\n",
       "}\n",
       "\n",
       "#sk-container-id-1 div.sk-toggleable__content.fitted pre {\n",
       "  /* unfitted */\n",
       "  background-color: var(--sklearn-color-fitted-level-0);\n",
       "}\n",
       "\n",
       "#sk-container-id-1 input.sk-toggleable__control:checked~div.sk-toggleable__content {\n",
       "  /* Expand drop-down */\n",
       "  max-height: 200px;\n",
       "  max-width: 100%;\n",
       "  overflow: auto;\n",
       "}\n",
       "\n",
       "#sk-container-id-1 input.sk-toggleable__control:checked~label.sk-toggleable__label-arrow:before {\n",
       "  content: \"▾\";\n",
       "}\n",
       "\n",
       "/* Pipeline/ColumnTransformer-specific style */\n",
       "\n",
       "#sk-container-id-1 div.sk-label input.sk-toggleable__control:checked~label.sk-toggleable__label {\n",
       "  color: var(--sklearn-color-text);\n",
       "  background-color: var(--sklearn-color-unfitted-level-2);\n",
       "}\n",
       "\n",
       "#sk-container-id-1 div.sk-label.fitted input.sk-toggleable__control:checked~label.sk-toggleable__label {\n",
       "  background-color: var(--sklearn-color-fitted-level-2);\n",
       "}\n",
       "\n",
       "/* Estimator-specific style */\n",
       "\n",
       "/* Colorize estimator box */\n",
       "#sk-container-id-1 div.sk-estimator input.sk-toggleable__control:checked~label.sk-toggleable__label {\n",
       "  /* unfitted */\n",
       "  background-color: var(--sklearn-color-unfitted-level-2);\n",
       "}\n",
       "\n",
       "#sk-container-id-1 div.sk-estimator.fitted input.sk-toggleable__control:checked~label.sk-toggleable__label {\n",
       "  /* fitted */\n",
       "  background-color: var(--sklearn-color-fitted-level-2);\n",
       "}\n",
       "\n",
       "#sk-container-id-1 div.sk-label label.sk-toggleable__label,\n",
       "#sk-container-id-1 div.sk-label label {\n",
       "  /* The background is the default theme color */\n",
       "  color: var(--sklearn-color-text-on-default-background);\n",
       "}\n",
       "\n",
       "/* On hover, darken the color of the background */\n",
       "#sk-container-id-1 div.sk-label:hover label.sk-toggleable__label {\n",
       "  color: var(--sklearn-color-text);\n",
       "  background-color: var(--sklearn-color-unfitted-level-2);\n",
       "}\n",
       "\n",
       "/* Label box, darken color on hover, fitted */\n",
       "#sk-container-id-1 div.sk-label.fitted:hover label.sk-toggleable__label.fitted {\n",
       "  color: var(--sklearn-color-text);\n",
       "  background-color: var(--sklearn-color-fitted-level-2);\n",
       "}\n",
       "\n",
       "/* Estimator label */\n",
       "\n",
       "#sk-container-id-1 div.sk-label label {\n",
       "  font-family: monospace;\n",
       "  font-weight: bold;\n",
       "  display: inline-block;\n",
       "  line-height: 1.2em;\n",
       "}\n",
       "\n",
       "#sk-container-id-1 div.sk-label-container {\n",
       "  text-align: center;\n",
       "}\n",
       "\n",
       "/* Estimator-specific */\n",
       "#sk-container-id-1 div.sk-estimator {\n",
       "  font-family: monospace;\n",
       "  border: 1px dotted var(--sklearn-color-border-box);\n",
       "  border-radius: 0.25em;\n",
       "  box-sizing: border-box;\n",
       "  margin-bottom: 0.5em;\n",
       "  /* unfitted */\n",
       "  background-color: var(--sklearn-color-unfitted-level-0);\n",
       "}\n",
       "\n",
       "#sk-container-id-1 div.sk-estimator.fitted {\n",
       "  /* fitted */\n",
       "  background-color: var(--sklearn-color-fitted-level-0);\n",
       "}\n",
       "\n",
       "/* on hover */\n",
       "#sk-container-id-1 div.sk-estimator:hover {\n",
       "  /* unfitted */\n",
       "  background-color: var(--sklearn-color-unfitted-level-2);\n",
       "}\n",
       "\n",
       "#sk-container-id-1 div.sk-estimator.fitted:hover {\n",
       "  /* fitted */\n",
       "  background-color: var(--sklearn-color-fitted-level-2);\n",
       "}\n",
       "\n",
       "/* Specification for estimator info (e.g. \"i\" and \"?\") */\n",
       "\n",
       "/* Common style for \"i\" and \"?\" */\n",
       "\n",
       ".sk-estimator-doc-link,\n",
       "a:link.sk-estimator-doc-link,\n",
       "a:visited.sk-estimator-doc-link {\n",
       "  float: right;\n",
       "  font-size: smaller;\n",
       "  line-height: 1em;\n",
       "  font-family: monospace;\n",
       "  background-color: var(--sklearn-color-background);\n",
       "  border-radius: 1em;\n",
       "  height: 1em;\n",
       "  width: 1em;\n",
       "  text-decoration: none !important;\n",
       "  margin-left: 1ex;\n",
       "  /* unfitted */\n",
       "  border: var(--sklearn-color-unfitted-level-1) 1pt solid;\n",
       "  color: var(--sklearn-color-unfitted-level-1);\n",
       "}\n",
       "\n",
       ".sk-estimator-doc-link.fitted,\n",
       "a:link.sk-estimator-doc-link.fitted,\n",
       "a:visited.sk-estimator-doc-link.fitted {\n",
       "  /* fitted */\n",
       "  border: var(--sklearn-color-fitted-level-1) 1pt solid;\n",
       "  color: var(--sklearn-color-fitted-level-1);\n",
       "}\n",
       "\n",
       "/* On hover */\n",
       "div.sk-estimator:hover .sk-estimator-doc-link:hover,\n",
       ".sk-estimator-doc-link:hover,\n",
       "div.sk-label-container:hover .sk-estimator-doc-link:hover,\n",
       ".sk-estimator-doc-link:hover {\n",
       "  /* unfitted */\n",
       "  background-color: var(--sklearn-color-unfitted-level-3);\n",
       "  color: var(--sklearn-color-background);\n",
       "  text-decoration: none;\n",
       "}\n",
       "\n",
       "div.sk-estimator.fitted:hover .sk-estimator-doc-link.fitted:hover,\n",
       ".sk-estimator-doc-link.fitted:hover,\n",
       "div.sk-label-container:hover .sk-estimator-doc-link.fitted:hover,\n",
       ".sk-estimator-doc-link.fitted:hover {\n",
       "  /* fitted */\n",
       "  background-color: var(--sklearn-color-fitted-level-3);\n",
       "  color: var(--sklearn-color-background);\n",
       "  text-decoration: none;\n",
       "}\n",
       "\n",
       "/* Span, style for the box shown on hovering the info icon */\n",
       ".sk-estimator-doc-link span {\n",
       "  display: none;\n",
       "  z-index: 9999;\n",
       "  position: relative;\n",
       "  font-weight: normal;\n",
       "  right: .2ex;\n",
       "  padding: .5ex;\n",
       "  margin: .5ex;\n",
       "  width: min-content;\n",
       "  min-width: 20ex;\n",
       "  max-width: 50ex;\n",
       "  color: var(--sklearn-color-text);\n",
       "  box-shadow: 2pt 2pt 4pt #999;\n",
       "  /* unfitted */\n",
       "  background: var(--sklearn-color-unfitted-level-0);\n",
       "  border: .5pt solid var(--sklearn-color-unfitted-level-3);\n",
       "}\n",
       "\n",
       ".sk-estimator-doc-link.fitted span {\n",
       "  /* fitted */\n",
       "  background: var(--sklearn-color-fitted-level-0);\n",
       "  border: var(--sklearn-color-fitted-level-3);\n",
       "}\n",
       "\n",
       ".sk-estimator-doc-link:hover span {\n",
       "  display: block;\n",
       "}\n",
       "\n",
       "/* \"?\"-specific style due to the `<a>` HTML tag */\n",
       "\n",
       "#sk-container-id-1 a.estimator_doc_link {\n",
       "  float: right;\n",
       "  font-size: 1rem;\n",
       "  line-height: 1em;\n",
       "  font-family: monospace;\n",
       "  background-color: var(--sklearn-color-background);\n",
       "  border-radius: 1rem;\n",
       "  height: 1rem;\n",
       "  width: 1rem;\n",
       "  text-decoration: none;\n",
       "  /* unfitted */\n",
       "  color: var(--sklearn-color-unfitted-level-1);\n",
       "  border: var(--sklearn-color-unfitted-level-1) 1pt solid;\n",
       "}\n",
       "\n",
       "#sk-container-id-1 a.estimator_doc_link.fitted {\n",
       "  /* fitted */\n",
       "  border: var(--sklearn-color-fitted-level-1) 1pt solid;\n",
       "  color: var(--sklearn-color-fitted-level-1);\n",
       "}\n",
       "\n",
       "/* On hover */\n",
       "#sk-container-id-1 a.estimator_doc_link:hover {\n",
       "  /* unfitted */\n",
       "  background-color: var(--sklearn-color-unfitted-level-3);\n",
       "  color: var(--sklearn-color-background);\n",
       "  text-decoration: none;\n",
       "}\n",
       "\n",
       "#sk-container-id-1 a.estimator_doc_link.fitted:hover {\n",
       "  /* fitted */\n",
       "  background-color: var(--sklearn-color-fitted-level-3);\n",
       "}\n",
       "</style><div id=\"sk-container-id-1\" class=\"sk-top-container\"><div class=\"sk-text-repr-fallback\"><pre>SVC()</pre><b>In a Jupyter environment, please rerun this cell to show the HTML representation or trust the notebook. <br />On GitHub, the HTML representation is unable to render, please try loading this page with nbviewer.org.</b></div><div class=\"sk-container\" hidden><div class=\"sk-item\"><div class=\"sk-estimator fitted sk-toggleable\"><input class=\"sk-toggleable__control sk-hidden--visually\" id=\"sk-estimator-id-1\" type=\"checkbox\" checked><label for=\"sk-estimator-id-1\" class=\"sk-toggleable__label fitted sk-toggleable__label-arrow fitted\">&nbsp;&nbsp;SVC<a class=\"sk-estimator-doc-link fitted\" rel=\"noreferrer\" target=\"_blank\" href=\"https://scikit-learn.org/1.4/modules/generated/sklearn.svm.SVC.html\">?<span>Documentation for SVC</span></a><span class=\"sk-estimator-doc-link fitted\">i<span>Fitted</span></span></label><div class=\"sk-toggleable__content fitted\"><pre>SVC()</pre></div> </div></div></div></div>"
      ],
      "text/plain": [
       "SVC()"
      ]
     },
     "execution_count": 19,
     "metadata": {},
     "output_type": "execute_result"
    }
   ],
   "source": [
    "from sklearn.svm import SVC\n",
    "svm_classifier = SVC()\n",
    "svm_classifier.fit(data_train_features , data_train_target)"
   ]
  },
  {
   "cell_type": "code",
   "execution_count": 20,
   "id": "1d1595bf",
   "metadata": {},
   "outputs": [
    {
     "name": "stdout",
     "output_type": "stream",
     "text": [
      "Accuracy of SVM Classifier is :  97.92\n"
     ]
    }
   ],
   "source": [
    "y_pred = svm_classifier.predict(data_test_features)\n",
    "accuracy_svm = accuracy_score(y_pred ,data_test_target)*100\n",
    "print(\"Accuracy of SVM Classifier is : \",accuracy_svm)"
   ]
  },
  {
   "cell_type": "code",
   "execution_count": 21,
   "id": "6c5591c5",
   "metadata": {},
   "outputs": [
    {
     "data": {
      "text/plain": [
       "['svm_classifier_recognizer.pkl']"
      ]
     },
     "execution_count": 21,
     "metadata": {},
     "output_type": "execute_result"
    }
   ],
   "source": [
    "joblib.dump(svm_classifier, 'svm_classifier_recognizer.pkl')"
   ]
  },
  {
   "cell_type": "code",
   "execution_count": 25,
   "id": "377f8873",
   "metadata": {},
   "outputs": [
    {
     "name": "stdout",
     "output_type": "stream",
     "text": [
      "The accuracy after training with model 1 is 97.92\n",
      "The accuracy after training with model 2 is 87.72999999999999\n",
      "The accuracy after training with model 3 is 94.08\n",
      "The accuracy after training with model 4 is 83.84\n",
      "The accuracy after training with model 5 is 97.92\n"
     ]
    }
   ],
   "source": [
    "accuracy_trained_model = [accuracy_svm,accuracy_decision_tree,accuracy_pca_knn,accuracy_pca_decision,accuracy_svm]\n",
    "for i in range(len(accuracy_trained_model)):\n",
    "    print(f\"The accuracy after training with model {i+1} is {accuracy_trained_model[i]}\")"
   ]
  },
  {
   "cell_type": "code",
   "execution_count": null,
   "id": "3f6cbe4d",
   "metadata": {},
   "outputs": [],
   "source": []
  },
  {
   "cell_type": "code",
   "execution_count": null,
   "id": "17a76784",
   "metadata": {},
   "outputs": [],
   "source": []
  }
 ],
 "metadata": {
  "kernelspec": {
   "display_name": "Python 3 (ipykernel)",
   "language": "python",
   "name": "python3"
  },
  "language_info": {
   "codemirror_mode": {
    "name": "ipython",
    "version": 3
   },
   "file_extension": ".py",
   "mimetype": "text/x-python",
   "name": "python",
   "nbconvert_exporter": "python",
   "pygments_lexer": "ipython3",
   "version": "3.12.2"
  }
 },
 "nbformat": 4,
 "nbformat_minor": 5
}
